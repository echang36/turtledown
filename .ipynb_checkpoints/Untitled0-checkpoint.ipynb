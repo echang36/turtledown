{
 "metadata": {
  "name": ""
 },
 "nbformat": 3,
 "nbformat_minor": 0,
 "worksheets": [
  {
   "cells": [
    {
     "cell_type": "code",
     "collapsed": false,
     "input": [
      "import nltk\n",
      "from nltk.book import *"
     ],
     "language": "python",
     "metadata": {},
     "outputs": [
      {
       "output_type": "stream",
       "stream": "stdout",
       "text": [
        "*** Introductory Examples for the NLTK Book ***\n",
        "Loading text1, ..., text9 and sent1, ..., sent9\n",
        "Type the name of the text or sentence to view it.\n",
        "Type: 'texts()' or 'sents()' to list the materials.\n",
        "text1:"
       ]
      },
      {
       "output_type": "stream",
       "stream": "stdout",
       "text": [
        " Moby Dick by Herman Melville 1851\n",
        "text2:"
       ]
      },
      {
       "output_type": "stream",
       "stream": "stdout",
       "text": [
        " Sense and Sensibility by Jane Austen 1811\n",
        "text3:"
       ]
      },
      {
       "output_type": "stream",
       "stream": "stdout",
       "text": [
        " The Book of Genesis\n",
        "text4:"
       ]
      },
      {
       "output_type": "stream",
       "stream": "stdout",
       "text": [
        " Inaugural Address Corpus\n",
        "text5:"
       ]
      },
      {
       "output_type": "stream",
       "stream": "stdout",
       "text": [
        " Chat Corpus\n",
        "text6:"
       ]
      },
      {
       "output_type": "stream",
       "stream": "stdout",
       "text": [
        " Monty Python and the Holy Grail\n",
        "text7:"
       ]
      },
      {
       "output_type": "stream",
       "stream": "stdout",
       "text": [
        " Wall Street Journal\n",
        "text8: Personals Corpus\n",
        "text9:"
       ]
      },
      {
       "output_type": "stream",
       "stream": "stdout",
       "text": [
        " The Man Who Was Thursday by G . K . Chesterton 1908\n"
       ]
      }
     ],
     "prompt_number": 3
    },
    {
     "cell_type": "code",
     "collapsed": false,
     "input": [
      "text4"
     ],
     "language": "python",
     "metadata": {},
     "outputs": [
      {
       "metadata": {},
       "output_type": "pyout",
       "prompt_number": 7,
       "text": [
        "<Text: Inaugural Address Corpus>"
       ]
      }
     ],
     "prompt_number": 7
    },
    {
     "cell_type": "code",
     "collapsed": false,
     "input": [
      "state_union = nltk.corpus.state_union"
     ],
     "language": "python",
     "metadata": {},
     "outputs": [],
     "prompt_number": 20
    },
    {
     "cell_type": "code",
     "collapsed": false,
     "input": [
      "state_union.fileids()"
     ],
     "language": "python",
     "metadata": {},
     "outputs": [
      {
       "metadata": {},
       "output_type": "pyout",
       "prompt_number": 21,
       "text": [
        "['1945-Truman.txt',\n",
        " '1946-Truman.txt',\n",
        " '1947-Truman.txt',\n",
        " '1948-Truman.txt',\n",
        " '1949-Truman.txt',\n",
        " '1950-Truman.txt',\n",
        " '1951-Truman.txt',\n",
        " '1953-Eisenhower.txt',\n",
        " '1954-Eisenhower.txt',\n",
        " '1955-Eisenhower.txt',\n",
        " '1956-Eisenhower.txt',\n",
        " '1957-Eisenhower.txt',\n",
        " '1958-Eisenhower.txt',\n",
        " '1959-Eisenhower.txt',\n",
        " '1960-Eisenhower.txt',\n",
        " '1961-Kennedy.txt',\n",
        " '1962-Kennedy.txt',\n",
        " '1963-Johnson.txt',\n",
        " '1963-Kennedy.txt',\n",
        " '1964-Johnson.txt',\n",
        " '1965-Johnson-1.txt',\n",
        " '1965-Johnson-2.txt',\n",
        " '1966-Johnson.txt',\n",
        " '1967-Johnson.txt',\n",
        " '1968-Johnson.txt',\n",
        " '1969-Johnson.txt',\n",
        " '1970-Nixon.txt',\n",
        " '1971-Nixon.txt',\n",
        " '1972-Nixon.txt',\n",
        " '1973-Nixon.txt',\n",
        " '1974-Nixon.txt',\n",
        " '1975-Ford.txt',\n",
        " '1976-Ford.txt',\n",
        " '1977-Ford.txt',\n",
        " '1978-Carter.txt',\n",
        " '1979-Carter.txt',\n",
        " '1980-Carter.txt',\n",
        " '1981-Reagan.txt',\n",
        " '1982-Reagan.txt',\n",
        " '1983-Reagan.txt',\n",
        " '1984-Reagan.txt',\n",
        " '1985-Reagan.txt',\n",
        " '1986-Reagan.txt',\n",
        " '1987-Reagan.txt',\n",
        " '1988-Reagan.txt',\n",
        " '1989-Bush.txt',\n",
        " '1990-Bush.txt',\n",
        " '1991-Bush-1.txt',\n",
        " '1991-Bush-2.txt',\n",
        " '1992-Bush.txt',\n",
        " '1993-Clinton.txt',\n",
        " '1994-Clinton.txt',\n",
        " '1995-Clinton.txt',\n",
        " '1996-Clinton.txt',\n",
        " '1997-Clinton.txt',\n",
        " '1998-Clinton.txt',\n",
        " '1999-Clinton.txt',\n",
        " '2000-Clinton.txt',\n",
        " '2001-GWBush-1.txt',\n",
        " '2001-GWBush-2.txt',\n",
        " '2002-GWBush.txt',\n",
        " '2003-GWBush.txt',\n",
        " '2004-GWBush.txt',\n",
        " '2005-GWBush.txt',\n",
        " '2006-GWBush.txt']"
       ]
      }
     ],
     "prompt_number": 21
    },
    {
     "cell_type": "code",
     "collapsed": false,
     "input": [
      "cfd = nltk.ConditionalFreqDist(\n",
      "        (fileid[:4], word)\n",
      "        for fileid in state_union.fileids()\n",
      "        for word in state_union.words(fileid))\n",
      "cfd\n",
      "        "
     ],
     "language": "python",
     "metadata": {},
     "outputs": [
      {
       "metadata": {},
       "output_type": "pyout",
       "prompt_number": 22,
       "text": [
        "<ConditionalFreqDist with 61 conditions>"
       ]
      }
     ],
     "prompt_number": 22
    },
    {
     "cell_type": "code",
     "collapsed": false,
     "input": [
      "cfd['1945']"
     ],
     "language": "python",
     "metadata": {},
     "outputs": [
      {
       "metadata": {},
       "output_type": "pyout",
       "prompt_number": 24,
       "text": [
        "<FreqDist with 751 samples and 2138 outcomes>"
       ]
      }
     ],
     "prompt_number": 24
    },
    {
     "cell_type": "code",
     "collapsed": false,
     "input": [
      "y1945 = cfd['1945']\n",
      "sorted(y1945, key=lambda k: k[0])\n",
      "cfd['1945']['shall']"
     ],
     "language": "python",
     "metadata": {},
     "outputs": [
      {
       "metadata": {},
       "output_type": "pyout",
       "prompt_number": 43,
       "text": [
        "6"
       ]
      }
     ],
     "prompt_number": 43
    },
    {
     "cell_type": "code",
     "collapsed": false,
     "input": [
      "state_union = nltk.corpus.state_union\n",
      "#for fileid in state_union state_union.fileids()\n",
      "fileid ='1945-Truman.txt'\n",
      "#fdist = FreqDist(state_union.words(fileid))\n",
      "state_union.words(fileid)\n",
      "top40 = fdist.keys()\n",
      "top40 = top40[:40]\n",
      "fdist.plot(40, cumulative=True)"
     ],
     "language": "python",
     "metadata": {},
     "outputs": [
      {
       "ename": "NameError",
       "evalue": "name 'nltk' is not defined",
       "output_type": "pyerr",
       "traceback": [
        "\u001b[0;31m---------------------------------------------------------------------------\u001b[0m\n\u001b[0;31mNameError\u001b[0m                                 Traceback (most recent call last)",
        "\u001b[0;32m<ipython-input-4-47ea0c517602>\u001b[0m in \u001b[0;36m<module>\u001b[0;34m()\u001b[0m\n\u001b[0;32m----> 1\u001b[0;31m \u001b[0mstate_union\u001b[0m \u001b[0;34m=\u001b[0m \u001b[0mnltk\u001b[0m\u001b[0;34m.\u001b[0m\u001b[0mcorpus\u001b[0m\u001b[0;34m.\u001b[0m\u001b[0mstate_union\u001b[0m\u001b[0;34m\u001b[0m\u001b[0m\n\u001b[0m\u001b[1;32m      2\u001b[0m \u001b[0;31m#for fileid in state_union state_union.fileids()\u001b[0m\u001b[0;34m\u001b[0m\u001b[0;34m\u001b[0m\u001b[0m\n\u001b[1;32m      3\u001b[0m \u001b[0mfileid\u001b[0m \u001b[0;34m=\u001b[0m\u001b[0;34m'1945-Truman.txt'\u001b[0m\u001b[0;34m\u001b[0m\u001b[0m\n\u001b[1;32m      4\u001b[0m \u001b[0mfdist\u001b[0m \u001b[0;34m=\u001b[0m \u001b[0mFreqDist\u001b[0m\u001b[0;34m(\u001b[0m\u001b[0mstate_union\u001b[0m\u001b[0;34m.\u001b[0m\u001b[0mwords\u001b[0m\u001b[0;34m(\u001b[0m\u001b[0mfileid\u001b[0m\u001b[0;34m)\u001b[0m\u001b[0;34m)\u001b[0m\u001b[0;34m\u001b[0m\u001b[0m\n\u001b[1;32m      5\u001b[0m \u001b[0mstate_union\u001b[0m\u001b[0;34m.\u001b[0m\u001b[0mwords\u001b[0m\u001b[0;34m(\u001b[0m\u001b[0mfileid\u001b[0m\u001b[0;34m)\u001b[0m\u001b[0;34m\u001b[0m\u001b[0m\n",
        "\u001b[0;31mNameError\u001b[0m: name 'nltk' is not defined"
       ]
      }
     ],
     "prompt_number": 4
    },
    {
     "cell_type": "code",
     "collapsed": false,
     "input": [],
     "language": "python",
     "metadata": {},
     "outputs": []
    }
   ],
   "metadata": {}
  }
 ]
}