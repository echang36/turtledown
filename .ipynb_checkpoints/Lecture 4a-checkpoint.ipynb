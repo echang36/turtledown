{
 "metadata": {
  "name": ""
 },
 "nbformat": 3,
 "nbformat_minor": 0,
 "worksheets": [
  {
   "cells": [
    {
     "cell_type": "code",
     "collapsed": false,
     "input": [
      "import twitter\n",
      "\n",
      "CONSUMER_KEY='XXUQlJ3P6SLo5cMoACdHw'\n",
      "CONSUMER_SECRET='lIHSK9YSF7XbUc0xIpGUxDIZlOuWUB9eh60VyPuuI'\n",
      "OAUTH_TOKEN='98701585-MyvDH0qDynyLQXCcZ1WNgK1UoPUiDq302xffXf5dO'\n",
      "OAUTH_TOKEN_SECRET='WcpBHlkOrrO440gQtagPn2g3HkiHSu3uDL8mj69sa8PHe'\n",
      "\n",
      "auth = twitter.oauth.OAuth(OAUTH_TOKEN, OAUTH_TOKEN_SECRET, CONSUMER_KEY, \n",
      "                           CONSUMER_SECRET)\n",
      "\n",
      "twitter_api = twitter.Twitter(auth=auth)\n",
      "\n",
      "print twitter_api"
     ],
     "language": "python",
     "metadata": {},
     "outputs": [
      {
       "output_type": "stream",
       "stream": "stdout",
       "text": [
        "<twitter.api.Twitter object at 0x102f48350>\n"
       ]
      }
     ],
     "prompt_number": 1
    },
    {
     "cell_type": "code",
     "collapsed": false,
     "input": [
      "import json\n",
      "\n",
      "q='elaine'\n",
      "count=20\n",
      "search_results = twitter_api.search.tweets(q=q, count=count)\n",
      "statuses = search_results['statuses']\n",
      "\n",
      "print \"Length of statuses list (number of statuses)\", len(statuses)\n",
      "\n",
      "\n",
      "for _ in range(5):\n",
      "    try:\n",
      "        next_results = search_results['search_metadata']['next_results']\n",
      "    except KeyError, e:\n",
      "        break\n",
      "    \n",
      "    kwargs=dict([kv.split('=') for kv in next_results[1:].split(\"&\")])\n",
      "    \n",
      "    search_results = twitter_api.search.tweets(**kwargs)\n",
      "    statuses += search_results['statuses']\n",
      "    \n",
      "    \n",
      "#print json.dumps(statuses[0], indent=1)\n",
      "print \"New length\", len(statuses)    \n",
      "\n",
      "#print json.dumps(statuses[0])\n",
      "\n",
      "for i in range(20):\n",
      "    print statuses[i]['text']\n",
      "\n",
      "#textblah = statuses['text']\n",
      "#print textblah[0]"
     ],
     "language": "python",
     "metadata": {},
     "outputs": [
      {
       "output_type": "stream",
       "stream": "stdout",
       "text": [
        "Length of statuses list (number of statuses) 20\n",
        "New length"
       ]
      },
      {
       "output_type": "stream",
       "stream": "stdout",
       "text": [
        " 120\n",
        "@methodistmonk but I did quite a bit of work with Elaine Heath, Abraham, and Marshall.\n",
        "#MOTAVATOUR @BethanyMota  follow me? \ud83d\udc95\n",
        "RT @EXOGlobal: [HQ] 140129 Kris at Guangzhou Airport Cr: Elaine http://t.co/f4LAIk8mR8\n",
        "RT @EXOGlobal: [HQ] 140129 Kris at Guangzhou Airport Cr: Elaine http://t.co/f4LAIk8mR8\n",
        "RT @shayblasian: Everytime I walk in the house http://t.co/Rv8OJF0tMq\n",
        "RT @baxter_christa: i just want someone to send me flowers on valentines day\ud83d\udc90 \n",
        "is that too much to ask for ?\n",
        "RT @iSpeakMarijuana: Smoking weed doesn't ruin your life, that's all on you. If you can't manage smoking weed and getting your shit done, t\u2026\n",
        "@elaine_destiny @TELLES_03 y'all \ud83d\udd25\ud83d\udd25\n",
        "RT @Exofanbase: 140129 Guangzhou Airport- A fan gave Kris a gift when he was at the car (elaine) http://t.co/1NyFtSiV5x\n",
        "RT @EXOGlobal: [HQ] 140129 Kris at Guangzhou Airport Cr: Elaine http://t.co/f4LAIk8mR8\n",
        "RT @Skylark___: #ThisCouldBeUsButImNotThatStrong #IMightDropYou http://t.co/TzFsmWk4n7\n",
        "RT @CraziestSex: Lets makeup, have sex, cuddle, have sex again, go out to eat, than go back home watch a movie, and have sex again.\n",
        "@KstinaMarie @Lauraa_Stephens @Madisonn_Elaine my best is 9 \ud83d\ude33 http://t.co/H11yRZmKef\n",
        "@ryelovesred noo! My hands is beautiful.  :\"\") and you're beautifullest. \u2665\n",
        "@elaine_infinity http://t.co/Ao4tPotKn8\n",
        "RT @EXO_FANBASE: [HQ] 140129 Luhan @ Beijing Airport [ cr: Elaine\u604b ]     http://t.co/dSnrYf63Ma http://t.co/p5cgNqmsNC\n",
        "RT @EXO_FANBASE: [HQ] 140129 Luhan @ Beijing Airport [ cr: Elaine\u604b ]  http://t.co/PziDczK1om http://t.co/61vbK3YucN\n",
        "RT @Psanderetts21: Do you ever see a vine and you end up watching it for minutes on end without realizing what your actually watching\n",
        "@BethanyMota the #MOTAFAM is the best \ud83d\udc95\ud83d\ude18\ud83d\udc4c #MOTAVATOUR\n",
        "\"If you desire to make a difference in the world, you must be DIFFERENT from the WORLD.\" - Elaine S. Dalton\n"
       ]
      }
     ],
     "prompt_number": 19
    },
    {
     "cell_type": "code",
     "collapsed": false,
     "input": [
      "status_texts = [status['text'] for status in statuses]\n",
      "screen_names = [user_mention['screen_name'] \n",
      "                for status in statuses \n",
      "                    for user_mention in status['entities']['user_mentions']]\n",
      "hashtags = [hashtag['text']\n",
      "            for status in statuses\n",
      "                for hashtag in status['entities']['hashtags']]\n",
      "\n",
      "words = [w\n",
      "         for t in status_texts\n",
      "             for w in t.split()]\n",
      "\n",
      "print json.dumps(status_texts[0:5], indent=1)\n",
      "print json.dumps(screen_names[0:5], indent=1) \n",
      "print json.dumps(hashtags[0:5], indent=1)\n",
      "print json.dumps(words[0:5], indent=1)"
     ],
     "language": "python",
     "metadata": {},
     "outputs": [
      {
       "output_type": "stream",
       "stream": "stdout",
       "text": [
        "[\n",
        " \"@methodistmonk but I did quite a bit of work with Elaine Heath, Abraham, and Marshall.\", \n",
        " \"#MOTAVATOUR @BethanyMota  follow me? \\ud83d\\udc95\", \n",
        " \"RT @EXOGlobal: [HQ] 140129 Kris at Guangzhou Airport Cr: Elaine http://t.co/f4LAIk8mR8\", \n",
        " \"RT @EXOGlobal: [HQ] 140129 Kris at Guangzhou Airport Cr: Elaine http://t.co/f4LAIk8mR8\", \n",
        " \"RT @shayblasian: Everytime I walk in the house http://t.co/Rv8OJF0tMq\"\n",
        "]\n",
        "[\n",
        " \"methodistmonk\", \n",
        " \"BethanyMota\", \n",
        " \"EXOGlobal\", \n",
        " \"EXOGlobal\", \n",
        " \"shayblasian\"\n",
        "]\n",
        "[\n",
        " \"MOTAVATOUR\", \n",
        " \"ThisCouldBeUsButImNotThatStrong\", \n",
        " \"IMightDropYou\", \n",
        " \"MOTAFAM\", \n",
        " \"MOTAVATOUR\"\n",
        "]\n",
        "[\n",
        " \"@methodistmonk\", \n",
        " \"but\", \n",
        " \"I\", \n",
        " \"did\", \n",
        " \"quite\"\n",
        "]\n"
       ]
      }
     ],
     "prompt_number": 24
    },
    {
     "cell_type": "code",
     "collapsed": false,
     "input": [
      "from collections import Counter\n",
      "\n",
      "for item in [words,screen_names,hashtags]:\n",
      "    c=Counter(item)\n",
      "    print c.most_common()[:10]\n",
      "    print"
     ],
     "language": "python",
     "metadata": {},
     "outputs": [
      {
       "output_type": "stream",
       "stream": "stdout",
       "text": [
        "[(u'RT', 61), (u'the', 39), (u'you', 22), (u'a', 21), (u'to', 20), (u'140129', 20), (u'I', 19), (u'is', 16), (u'Elaine', 15), (u'and', 15)]\n",
        "\n",
        "[(u'Lauraa_Stephens', 7), (u'EXO_FANBASE', 6), (u'Madisonn_Elaine', 6), (u'EXOGlobal', 5), (u'coltondixon', 4), (u'Exofanbase', 4), (u'tonnyy_rod', 3), (u'Brooke_Elaine_', 2), (u'shmoetimee', 2), (u'LindseyCortez14', 2)]\n",
        "\n",
        "[(u'MOTAVATOUR', 2), (u'niqqs', 2), (u'Ladies', 1), (u'ThisCouldBeUsButImNotThatStrong', 1), (u'MOTAFAM', 1), (u'LUHAN', 1), (u'IMightDropYou', 1), (u'Coaching', 1), (u'saynototwerking', 1), (u'Sagittarius', 1)]\n",
        "\n"
       ]
      }
     ],
     "prompt_number": 25
    },
    {
     "cell_type": "code",
     "collapsed": false,
     "input": [
      "from prettytable import PrettyTable\n",
      "\n",
      "for label, data in (('Word', words),\n",
      "                    ('Screen Name', screen_names),\n",
      "                    ('Hashtag', hashtags)):"
     ],
     "language": "python",
     "metadata": {},
     "outputs": []
    }
   ],
   "metadata": {}
  }
 ]
}