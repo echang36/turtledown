{
 "metadata": {
  "name": ""
 },
 "nbformat": 3,
 "nbformat_minor": 0,
 "worksheets": [
  {
   "cells": [
    {
     "cell_type": "code",
     "collapsed": false,
     "input": [
      "import nltk\n",
      "from nltk.classify.util import apply_features\n",
      "import string\n",
      "import glob\n",
      "import random\n",
      "random.seed(36)"
     ],
     "language": "python",
     "metadata": {},
     "outputs": [],
     "prompt_number": 2
    },
    {
     "cell_type": "code",
     "collapsed": false,
     "input": [
      "cb_files = glob.glob(\"cb/*\")\n",
      "dk_files=glob.glob(\"dk/*\")\n",
      "my_files=glob.glob(\"my/*\")"
     ],
     "language": "python",
     "metadata": {},
     "outputs": [],
     "prompt_number": 3
    },
    {
     "cell_type": "code",
     "collapsed": false,
     "input": [
      "#Create a \n",
      "\n",
      "\n",
      "liberal_data_points =[]\n",
      "for file in cb_files:\n",
      "    f = open(file,'r')\n",
      "    liberal_data_points.append((f.read(), random.randint(1,5)) )\n",
      "    f.close()\n",
      "for file in dk_files:\n",
      "    f = open(file,'r')\n",
      "    liberal_data_points.append((f.read(), random.randint(1,5)) )\n",
      "    f.close()\n",
      "for file in my_files:\n",
      "    f = open(file,'r')\n",
      "    liberal_data_points.append((f.read(), random.randint(1,5)) )\n",
      "    f.close()\n"
     ],
     "language": "python",
     "metadata": {},
     "outputs": [],
     "prompt_number": 4
    },
    {
     "cell_type": "code",
     "collapsed": false,
     "input": [
      "len(liberal_data_points)"
     ],
     "language": "python",
     "metadata": {},
     "outputs": [
      {
       "metadata": {},
       "output_type": "pyout",
       "prompt_number": 5,
       "text": [
        "5628"
       ]
      }
     ],
     "prompt_number": 5
    },
    {
     "cell_type": "code",
     "collapsed": false,
     "input": [
      "rs_files=glob.glob(\"rs/*\")\n",
      "rwn_files=glob.glob(\"rwn/*\")"
     ],
     "language": "python",
     "metadata": {},
     "outputs": [],
     "prompt_number": 6
    },
    {
     "cell_type": "code",
     "collapsed": false,
     "input": [
      "conservative_data_points=[]\n",
      "for file in rs_files:\n",
      "    f = open(file,'r')\n",
      "    conservative_data_points.append((f.read(), random.randint(1,5)) )\n",
      "    f.close()\n",
      "for file in rwn_files:\n",
      "    f = open(file,'r')\n",
      "    conservative_data_points.append((f.read(), random.randint(1,5)) )\n",
      "    f.close()\n"
     ],
     "language": "python",
     "metadata": {},
     "outputs": [],
     "prompt_number": 7
    },
    {
     "cell_type": "code",
     "collapsed": false,
     "input": [
      "len(conservative_data_points)"
     ],
     "language": "python",
     "metadata": {},
     "outputs": [
      {
       "metadata": {},
       "output_type": "pyout",
       "prompt_number": 8,
       "text": [
        "3932"
       ]
      }
     ],
     "prompt_number": 8
    },
    {
     "cell_type": "code",
     "collapsed": false,
     "input": [
      "liberal_training=[]\n",
      "liberal_testing=[]\n"
     ],
     "language": "python",
     "metadata": {},
     "outputs": [],
     "prompt_number": 9
    },
    {
     "cell_type": "code",
     "collapsed": false,
     "input": [
      "\n"
     ],
     "language": "python",
     "metadata": {},
     "outputs": []
    }
   ],
   "metadata": {}
  }
 ]
}