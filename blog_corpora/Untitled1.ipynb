{
 "metadata": {
  "name": ""
 },
 "nbformat": 3,
 "nbformat_minor": 0,
 "worksheets": [
  {
   "cells": [
    {
     "cell_type": "code",
     "collapsed": false,
     "input": [
      "import nltk\n",
      "from nltk.classify.util import apply_features\n",
      "import string\n",
      "import glob\n",
      "import random\n",
      "\n",
      "\n",
      "#Import liberal data sources\n",
      "cb_files=glob.glob(\"cb/*\")\n",
      "\n",
      "\n",
      "\n",
      "#For folding, create a dataset that has:\n",
      "#List 1-5, each of which contains a list of tuples\n",
      "#Tuples contain the text of a file and whether it is liberal or conservative\n",
      "\n",
      "random.seed(36)\n",
      "overall_data_set={1:[], 2:[], 3:[], 4:[], 5:[]}\n"
     ],
     "language": "python",
     "metadata": {},
     "outputs": [],
     "prompt_number": 15
    },
    {
     "cell_type": "code",
     "collapsed": false,
     "input": [
      "\n",
      "for file in cb_files:\n",
      "\tf=open(file,'r')\n",
      "\tdata_point=((f.read(),\"Liberal\"))\n",
      "\t(overall_data_set[random.randint(1,5)]).append(data_point)\n",
      "\tf.close()"
     ],
     "language": "python",
     "metadata": {},
     "outputs": [],
     "prompt_number": 16
    },
    {
     "cell_type": "code",
     "collapsed": false,
     "input": [
      "fold_num = 2\n",
      "train_data_points=[]\n",
      "test_data_points=[]\n",
      "\n",
      "test_data_points = overall_data_set[fold_num]\n",
      "\n",
      "gen = (i for i in overall_data_set if i != fold_num)\n",
      "\n",
      "#goes through 2,3,4,5\n",
      "for i in gen:\n",
      "    for item in overall_data_set[i]:\n",
      "        train_data_points.append(item)\n"
     ],
     "language": "python",
     "metadata": {},
     "outputs": [],
     "prompt_number": 61
    },
    {
     "cell_type": "code",
     "collapsed": false,
     "input": [
      "print len(train_data_points)\n",
      "print len(test_data_points)"
     ],
     "language": "python",
     "metadata": {},
     "outputs": [
      {
       "output_type": "stream",
       "stream": "stdout",
       "text": [
        "975\n",
        "226\n"
       ]
      }
     ],
     "prompt_number": 62
    },
    {
     "cell_type": "code",
     "collapsed": false,
     "input": [
      "print 226.0/975.0"
     ],
     "language": "python",
     "metadata": {},
     "outputs": [
      {
       "output_type": "stream",
       "stream": "stdout",
       "text": [
        "0.231794871795\n"
       ]
      }
     ],
     "prompt_number": 64
    },
    {
     "cell_type": "code",
     "collapsed": false,
     "input": [],
     "language": "python",
     "metadata": {},
     "outputs": []
    }
   ],
   "metadata": {}
  }
 ]
}