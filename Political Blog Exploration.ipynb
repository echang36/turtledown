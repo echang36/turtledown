{
 "metadata": {
  "name": ""
 },
 "nbformat": 3,
 "nbformat_minor": 0,
 "worksheets": [
  {
   "cells": [
    {
     "cell_type": "code",
     "collapsed": false,
     "input": [
      "import nltk\n",
      "from nltk.corpus import stopwords, PlaintextCorpusReader"
     ],
     "language": "python",
     "metadata": {},
     "outputs": [],
     "prompt_number": 1
    },
    {
     "cell_type": "code",
     "collapsed": false,
     "input": [
      "cb = PlaintextCorpusReader('blog_corpora/cb/', 'polit*.*')\n",
      "dk = PlaintextCorpusReader('blog_corpora/dk/', 'dk*.*')\n",
      "my = PlaintextCorpusReader('blog_corpora/my/', 'polit*.*')\n",
      "rs = PlaintextCorpusReader('blog_corpora/rs/', 'polit*.*')\n",
      "rwn = PlaintextCorpusReader('blog_corpora/rwn/', 'polit*.*')\n",
      "\n",
      "stop = stopwords.words('english')"
     ],
     "language": "python",
     "metadata": {},
     "outputs": [],
     "prompt_number": 40
    },
    {
     "cell_type": "code",
     "collapsed": false,
     "input": [
      "from nltk import FreqDist\n",
      "\n",
      "d ={}\n",
      "\n",
      "cb_words = [w for w in set(cb.words()) if w not in stop and 'meta' not in w]\n",
      "d['CB'] = len(set(cb_words)) / len(set(cb.fileids()))\n",
      "#print \"CB : {} \".format(len(set(cb_words)))\n",
      "\n",
      "dk_words = [w for w in set(dk.words()) if w not in stop and 'meta' not in w]\n",
      "d['DK'] = len(set(dk_words)) / len(set(dk.fileids()))\n",
      "#print \"DK : {} \".format(len(set(dk_words)))\n",
      "\n",
      "my_words = [w for w in set(my.words()) if w not in stop and 'meta' not in w]\n",
      "d['MY'] = len(set(my_words))/len(set(my.fileids()))\n",
      "#print \"MY : {} \".format(len(set(my_words)))\n",
      "\n",
      "rs_words = [w for w in set(rs.words()) if w not in stop and 'meta' not in w]\n",
      "d['RS'] = len(set(rs_words))/len(set(rs.fileids()))\n",
      "#print \"RS : {} \".format(len(set(rs_words)))\n",
      "\n",
      "rwn_words = [w for w in set(rwn.words()) if w not in stop and 'meta' not in w]\n",
      "d['RWN'] = len(set(rwn_words))/len(set(rwn.fileids()))\n",
      "#print \"RWN : {} \".format(len(set(rwn_words)))\n",
      "\n",
      "d\n"
     ],
     "language": "python",
     "metadata": {},
     "outputs": [
      {
       "metadata": {},
       "output_type": "pyout",
       "prompt_number": 76,
       "text": [
        "{'CB': 13, 'DK': 9, 'MY': 9, 'RS': 11, 'RWN': 16}"
       ]
      }
     ],
     "prompt_number": 76
    },
    {
     "cell_type": "code",
     "collapsed": false,
     "input": [
      "from pandas import DataFrame\n",
      "import matplotlib.pyplot as plt\n",
      "%matplotlib inline"
     ],
     "language": "python",
     "metadata": {},
     "outputs": [],
     "prompt_number": 77
    },
    {
     "cell_type": "code",
     "collapsed": false,
     "input": [
      "d"
     ],
     "language": "python",
     "metadata": {},
     "outputs": [
      {
       "metadata": {},
       "output_type": "pyout",
       "prompt_number": 78,
       "text": [
        "{'CB': 13, 'DK': 9, 'MY': 9, 'RS': 11, 'RWN': 16}"
       ]
      }
     ],
     "prompt_number": 78
    },
    {
     "cell_type": "code",
     "collapsed": false,
     "input": [
      "d.keys()"
     ],
     "language": "python",
     "metadata": {},
     "outputs": [
      {
       "metadata": {},
       "output_type": "pyout",
       "prompt_number": 79,
       "text": [
        "['CB', 'MY', 'DK', 'RWN', 'RS']"
       ]
      }
     ],
     "prompt_number": 79
    },
    {
     "cell_type": "code",
     "collapsed": false,
     "input": [
      "d.values()"
     ],
     "language": "python",
     "metadata": {},
     "outputs": [
      {
       "metadata": {},
       "output_type": "pyout",
       "prompt_number": 80,
       "text": [
        "[13, 9, 9, 16, 11]"
       ]
      }
     ],
     "prompt_number": 80
    },
    {
     "cell_type": "code",
     "collapsed": false,
     "input": [
      "dataset = zip(d.keys(), d.values())\n",
      "df = DataFrame(data=dataset, columns=['blog','count'])"
     ],
     "language": "python",
     "metadata": {},
     "outputs": [],
     "prompt_number": 81
    },
    {
     "cell_type": "code",
     "collapsed": false,
     "input": [
      "df"
     ],
     "language": "python",
     "metadata": {},
     "outputs": [
      {
       "html": [
        "<div style=\"max-height:1000px;max-width:1500px;overflow:auto;\">\n",
        "<table border=\"1\" class=\"dataframe\">\n",
        "  <thead>\n",
        "    <tr style=\"text-align: right;\">\n",
        "      <th></th>\n",
        "      <th>blog</th>\n",
        "      <th>count</th>\n",
        "    </tr>\n",
        "  </thead>\n",
        "  <tbody>\n",
        "    <tr>\n",
        "      <th>0</th>\n",
        "      <td>  CB</td>\n",
        "      <td> 13</td>\n",
        "    </tr>\n",
        "    <tr>\n",
        "      <th>1</th>\n",
        "      <td>  MY</td>\n",
        "      <td>  9</td>\n",
        "    </tr>\n",
        "    <tr>\n",
        "      <th>2</th>\n",
        "      <td>  DK</td>\n",
        "      <td>  9</td>\n",
        "    </tr>\n",
        "    <tr>\n",
        "      <th>3</th>\n",
        "      <td> RWN</td>\n",
        "      <td> 16</td>\n",
        "    </tr>\n",
        "    <tr>\n",
        "      <th>4</th>\n",
        "      <td>  RS</td>\n",
        "      <td> 11</td>\n",
        "    </tr>\n",
        "  </tbody>\n",
        "</table>\n",
        "<p>5 rows \u00d7 2 columns</p>\n",
        "</div>"
       ],
       "metadata": {},
       "output_type": "pyout",
       "prompt_number": 82,
       "text": [
        "  blog  count\n",
        "0   CB     13\n",
        "1   MY      9\n",
        "2   DK      9\n",
        "3  RWN     16\n",
        "4   RS     11\n",
        "\n",
        "[5 rows x 2 columns]"
       ]
      }
     ],
     "prompt_number": 82
    },
    {
     "cell_type": "code",
     "collapsed": false,
     "input": [
      "df['Conservative/Liberal']=['L','L','L','C','C']"
     ],
     "language": "python",
     "metadata": {},
     "outputs": [],
     "prompt_number": 83
    },
    {
     "cell_type": "code",
     "collapsed": false,
     "input": [
      "df"
     ],
     "language": "python",
     "metadata": {},
     "outputs": [
      {
       "html": [
        "<div style=\"max-height:1000px;max-width:1500px;overflow:auto;\">\n",
        "<table border=\"1\" class=\"dataframe\">\n",
        "  <thead>\n",
        "    <tr style=\"text-align: right;\">\n",
        "      <th></th>\n",
        "      <th>blog</th>\n",
        "      <th>count</th>\n",
        "      <th>Conservative/Liberal</th>\n",
        "    </tr>\n",
        "  </thead>\n",
        "  <tbody>\n",
        "    <tr>\n",
        "      <th>0</th>\n",
        "      <td>  CB</td>\n",
        "      <td> 13</td>\n",
        "      <td> L</td>\n",
        "    </tr>\n",
        "    <tr>\n",
        "      <th>1</th>\n",
        "      <td>  MY</td>\n",
        "      <td>  9</td>\n",
        "      <td> L</td>\n",
        "    </tr>\n",
        "    <tr>\n",
        "      <th>2</th>\n",
        "      <td>  DK</td>\n",
        "      <td>  9</td>\n",
        "      <td> L</td>\n",
        "    </tr>\n",
        "    <tr>\n",
        "      <th>3</th>\n",
        "      <td> RWN</td>\n",
        "      <td> 16</td>\n",
        "      <td> C</td>\n",
        "    </tr>\n",
        "    <tr>\n",
        "      <th>4</th>\n",
        "      <td>  RS</td>\n",
        "      <td> 11</td>\n",
        "      <td> C</td>\n",
        "    </tr>\n",
        "  </tbody>\n",
        "</table>\n",
        "<p>5 rows \u00d7 3 columns</p>\n",
        "</div>"
       ],
       "metadata": {},
       "output_type": "pyout",
       "prompt_number": 84,
       "text": [
        "  blog  count Conservative/Liberal\n",
        "0   CB     13                    L\n",
        "1   MY      9                    L\n",
        "2   DK      9                    L\n",
        "3  RWN     16                    C\n",
        "4   RS     11                    C\n",
        "\n",
        "[5 rows x 3 columns]"
       ]
      }
     ],
     "prompt_number": 84
    },
    {
     "cell_type": "code",
     "collapsed": false,
     "input": [
      "df.plot(sort_columns=True, kind='bar', x='blog', y='count')"
     ],
     "language": "python",
     "metadata": {},
     "outputs": [
      {
       "metadata": {},
       "output_type": "pyout",
       "prompt_number": 87,
       "text": [
        "<matplotlib.axes.AxesSubplot at 0x10d4f7210>"
       ]
      },
      {
       "metadata": {},
       "output_type": "display_data",
       "png": "[encoded data removed]",
       "text": [
        "<matplotlib.figure.Figure at 0x10cf02050>"
       ]
      }
     ],
     "prompt_number": 87
    },
    {
     "cell_type": "code",
     "collapsed": false,
     "input": [],
     "language": "python",
     "metadata": {},
     "outputs": []
    }
   ],
   "metadata": {}
  }
 ]
}